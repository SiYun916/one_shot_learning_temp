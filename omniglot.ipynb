{
 "cells": [
  {
   "cell_type": "code",
   "execution_count": 12,
   "metadata": {},
   "outputs": [],
   "source": [
    "import tensorflow as tf\n",
    "import os\n",
    "import numpy as np\n",
    "import matplotlib.pyplot as plt\n",
    "import cv2\n",
    "from imageio import imread"
   ]
  },
  {
   "cell_type": "code",
   "execution_count": 13,
   "metadata": {},
   "outputs": [],
   "source": [
    "train_data_folder = \"./images_background/\"\n",
    "test_data_folder = \"./images_evaluation/\"\n",
    "save_path = \"./data/\""
   ]
  },
  {
   "cell_type": "code",
   "execution_count": 17,
   "metadata": {},
   "outputs": [
    {
     "name": "stdout",
     "output_type": "stream",
     "text": [
      "(105, 105, 3)\n",
      "(105, 105)\n"
     ]
    },
    {
     "data": {
      "image/png": "[encoded data removed]",
      "text/plain": [
       "<Figure size 432x288 with 1 Axes>"
      ]
     },
     "metadata": {
      "needs_background": "light"
     },
     "output_type": "display_data"
    }
   ],
   "source": [
    "test_path = \"./images_background/Bengali/character01/0132_01.png\"\n",
    "image1 = cv2.imread(test_path)\n",
    "plt.imshow(image1)\n",
    "print(image1.shape)\n",
    "image2 = imread(test_path)\n",
    "plt.imshow(image2)\n",
    "print(image2.shape)"
   ]
  },
  {
   "cell_type": "code",
   "execution_count": null,
   "metadata": {},
   "outputs": [],
   "source": [
    "def loadimgs(path,n = 0):\n",
    "    X = []\n",
    "    y = []\n",
    "    lang_dict = {}  #语言在字母表的位置\n",
    "    cat_dict = {}   #（字母表，字符）\n",
    "    curr_y = n      #统计个数\n",
    "    \n",
    "    for alphabet in os.listdir(path):\n",
    "        print(\"loading alphabet: \"+alphabet)\n",
    "        lang_dict[alphabet] = [curr_y,None]\n",
    "        alphabet_path = os.path.join(path,alphabet)\n",
    "        \n",
    "        #读取字母表中的字符\n",
    "        for letter in os.listdir(alphabet_path):\n",
    "            cat_dict[curr_y] = (alphabet,letter)\n",
    "            #实际符号的数据\n",
    "            category_images = []\n",
    "            letter_path = os.path.join(alphabet_path,letter)\n",
    "            \n",
    "            for filename in os.listdir(letter_path):\n",
    "                image_path = os.path.join(letter_path,filename)\n",
    "                image = cv2.imread(image_path)\n",
    "                category_images.append(image)\n",
    "                y.append(curr_y)\n",
    "                try:\n",
    "                    X.append(np.stack(category_images))\n",
    "                except ValueError as e:\n",
    "                    print(e)\n",
    "                    print(\"error - category_images:\", category_images)\n",
    "                curr_y += 1\n",
    "                lang_dict[alphabet][1] = curr_y - 1\n",
    "    y = np.vstack(y)\n",
    "    X = np.stack(X)\n",
    "    return X,y,lang_dict"
   ]
  },
  {
   "cell_type": "code",
   "execution_count": null,
   "metadata": {},
   "outputs": [],
   "source": [
    "X,y,c = loadimg(train_data_folder)\n",
    "X."
   ]
  }
 ],
 "metadata": {
  "kernelspec": {
   "display_name": "Python 3",
   "language": "python",
   "name": "python3"
  },
  "language_info": {
   "codemirror_mode": {
    "name": "ipython",
    "version": 3
   },
   "file_extension": ".py",
   "mimetype": "text/x-python",
   "name": "python",
   "nbconvert_exporter": "python",
   "pygments_lexer": "ipython3",
   "version": "3.8.10"
  }
 },
 "nbformat": 4,
 "nbformat_minor": 4
}
